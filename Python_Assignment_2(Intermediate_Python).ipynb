{
 "cells": [
  {
   "cell_type": "markdown",
   "metadata": {
    "id": "yfi2Q_8Jl4_O"
   },
   "source": [
    " Part 1: Loops, Functions, and Parameters\n",
    "\n",
    "Write a function print_numbers that takes a parameter n and prints the numbers from 1 to n using a for loop."
   ]
  },
  {
   "cell_type": "code",
   "execution_count": 3,
   "metadata": {},
   "outputs": [
    {
     "name": "stdout",
     "output_type": "stream",
     "text": [
      "1\n",
      "2\n",
      "3\n",
      "4\n",
      "5\n",
      "6\n",
      "7\n"
     ]
    }
   ],
   "source": [
    "def print_numbers(n):\n",
    "    for i in range(1,n+1):\n",
    "        print(i)\n",
    "\n",
    "print_numbers(7)\n",
    "    "
   ]
  },
  {
   "cell_type": "markdown",
   "metadata": {},
   "source": [
    "Create a function calculate_sum that takes two parameters a and b and returns their sum. Use this function to calculate and print the sum of 5 and 7."
   ]
  },
  {
   "cell_type": "code",
   "execution_count": 4,
   "metadata": {},
   "outputs": [
    {
     "data": {
      "text/plain": [
       "12"
      ]
     },
     "execution_count": 4,
     "metadata": {},
     "output_type": "execute_result"
    }
   ],
   "source": [
    "def calculate_sum(x,y):\n",
    "    return x+y\n",
    "\n",
    "calculate_sum(5,7)"
   ]
  },
  {
   "cell_type": "markdown",
   "metadata": {},
   "source": [
    "Part 2: Lambda Function and List Comprehension\n",
    "\n",
    "Implement a lambda function to square a number. Use this lambda function and a list comprehension to create a list of squares for numbers 1 to 5."
   ]
  },
  {
   "cell_type": "code",
   "execution_count": 14,
   "metadata": {},
   "outputs": [
    {
     "name": "stdout",
     "output_type": "stream",
     "text": [
      "[1, 4, 9, 16, 25]\n"
     ]
    }
   ],
   "source": [
    "square_list = [(lambda x : x ** 2)(x) for x in range(1,6)]\n",
    "print(square_list)"
   ]
  },
  {
   "cell_type": "markdown",
   "metadata": {},
   "source": [
    "Part 3: File Handling\n",
    "\n",
    "Create a new text file named \"numbers.txt\". Write the numbers from 1 to 10 in separate lines using a loop and file handling.\n",
    "\n",
    "Read the contents of \"numbers.txt\" and print the sum of these numbers."
   ]
  },
  {
   "cell_type": "code",
   "execution_count": 48,
   "metadata": {},
   "outputs": [],
   "source": [
    "file = open('numbers.txt', 'w')\n",
    "for i in range(1,11):\n",
    "    file.write(str(i) + '\\n')\n",
    "file.close()"
   ]
  },
  {
   "cell_type": "code",
   "execution_count": 49,
   "metadata": {},
   "outputs": [
    {
     "name": "stdout",
     "output_type": "stream",
     "text": [
      "55\n"
     ]
    }
   ],
   "source": [
    "sum = 0\n",
    "with open('numbers.txt', 'r') as file:\n",
    "    for line in file:\n",
    "        sum += int(line)\n",
    "print(sum)"
   ]
  },
  {
   "cell_type": "markdown",
   "metadata": {},
   "source": [
    "Part 4: Exception Handling\n",
    "\n",
    "Write a function divide_numbers that takes two parameters numerator and denominator. Handle the ZeroDivisionError by printing a message instead of crashing the program.\n",
    "\n",
    "Call divide_numbers with numerator as 8 and denominator as 0. Catch the exception and print an appropriate message."
   ]
  },
  {
   "cell_type": "code",
   "execution_count": 55,
   "metadata": {},
   "outputs": [
    {
     "name": "stdout",
     "output_type": "stream",
     "text": [
      "Error: Division by zero is not allowed.\n"
     ]
    }
   ],
   "source": [
    "def divide_numbers(n,d):\n",
    "    try:\n",
    "        return n/d\n",
    "    except ZeroDivisionError:\n",
    "        print(\"Error: Division by zero is not allowed.\")\n",
    "divide_numbers(8,0)"
   ]
  }
 ],
 "metadata": {
  "colab": {
   "provenance": []
  },
  "kernelspec": {
   "display_name": "Python 3 (ipykernel)",
   "language": "python",
   "name": "python3"
  },
  "language_info": {
   "codemirror_mode": {
    "name": "ipython",
    "version": 3
   },
   "file_extension": ".py",
   "mimetype": "text/x-python",
   "name": "python",
   "nbconvert_exporter": "python",
   "pygments_lexer": "ipython3",
   "version": "3.11.6"
  }
 },
 "nbformat": 4,
 "nbformat_minor": 4
}
