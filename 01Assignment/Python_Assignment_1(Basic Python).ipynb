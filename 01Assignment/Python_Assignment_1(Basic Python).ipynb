{
 "cells": [
  {
   "cell_type": "markdown",
   "metadata": {},
   "source": [
    " Assignment: Python Basics\n",
    "\n",
    " Data Types:\n",
    "\n",
    "  * Question 1:\n",
    " •\tExplain the difference between mutable and immutable data types in Python. Provide examples of each."
   ]
  },
  {
   "cell_type": "markdown",
   "metadata": {
    "id": "iDfg1E32Rqym"
   },
   "source": [
    "**Mutable** - The datatype in python which its data can be changed or modified.\n",
    "\n",
    "Ex: lists, dictionaries\n",
    "\n",
    "**Immutable** - The datatype in python which its data can't be changed or modified.\n",
    "\n",
    "Ex: Tuples"
   ]
  },
  {
   "cell_type": "markdown",
   "metadata": {},
   "source": [
    " * Question 2:\n",
    "•\tCreate a list named fruits with three different fruit names. Add a new fruit to the list, and print the updated list."
   ]
  },
  {
   "cell_type": "code",
   "execution_count": 1,
   "metadata": {
    "colab": {
     "base_uri": "https://localhost:8080/"
    },
    "executionInfo": {
     "elapsed": 868,
     "status": "ok",
     "timestamp": 1710260722015,
     "user": {
      "displayName": "Rohith Sukka",
      "userId": "10682956521509937619"
     },
     "user_tz": -330
    },
    "id": "TQ3yidKJASOs",
    "outputId": "9c78d87d-c293-4e1e-c4bc-62cb74fc7ea1"
   },
   "outputs": [
    {
     "name": "stdout",
     "output_type": "stream",
     "text": [
      "['apple', 'mango', 'orange']\n",
      "['apple', 'mango', 'orange', 'banana']\n"
     ]
    }
   ],
   "source": [
    "#2\n",
    "\n",
    "fruits = [\"apple\", \"mango\", \"orange\"]\n",
    "print(fruits)\n",
    "fruits.append(\"banana\")\n",
    "print(fruits)"
   ]
  },
  {
   "cell_type": "markdown",
   "metadata": {},
   "source": [
    " Operators:\n",
    "\n",
    "    * Question 3:\n",
    "•\tGiven two variables x = 10 and y = 3, calculate and print the result of the following operations:\n",
    "•\tAddition\n",
    "•\tSubtraction\n",
    "•\tMultiplication\n",
    "•\tDivision (with and without remainder)"
   ]
  },
  {
   "cell_type": "code",
   "execution_count": 2,
   "metadata": {
    "colab": {
     "base_uri": "https://localhost:8080/"
    },
    "executionInfo": {
     "elapsed": 14,
     "status": "ok",
     "timestamp": 1710260723150,
     "user": {
      "displayName": "Rohith Sukka",
      "userId": "10682956521509937619"
     },
     "user_tz": -330
    },
    "id": "b-c0dlHeTIrX",
    "outputId": "170c5d1e-8d3c-40a4-ce52-e14c1df6ebca"
   },
   "outputs": [
    {
     "name": "stdout",
     "output_type": "stream",
     "text": [
      "Addition: 13\n",
      "Subtraction: 7\n",
      "multiplication: 30\n",
      "Division with remainder 3.3333333333333335\n",
      "Division without remainder 3\n"
     ]
    }
   ],
   "source": [
    "#3\n",
    "\n",
    "x = 10\n",
    "y = 3\n",
    "\n",
    "print(\"Addition:\", x+y)\n",
    "\n",
    "print(\"Subtraction:\", x-y)\n",
    "\n",
    "print(\"multiplication:\", x*y)\n",
    "\n",
    "print(\"Division with remainder\", x/y)\n",
    "\n",
    "print(\"Division without remainder\", x//y)\n",
    "\n"
   ]
  },
  {
   "cell_type": "markdown",
   "metadata": {},
   "source": [
    "* Question 4:\n",
    "•\tExplain the difference between == and is operators in Python. Provide examples to illustrate."
   ]
  },
  {
   "cell_type": "code",
   "execution_count": 3,
   "metadata": {
    "colab": {
     "base_uri": "https://localhost:8080/"
    },
    "executionInfo": {
     "elapsed": 9,
     "status": "ok",
     "timestamp": 1710260723150,
     "user": {
      "displayName": "Rohith Sukka",
      "userId": "10682956521509937619"
     },
     "user_tz": -330
    },
    "id": "yvgQgJjmTiut",
    "outputId": "89cec8bd-8ede-4a80-ba73-51bfd22ff0b8"
   },
   "outputs": [
    {
     "name": "stdout",
     "output_type": "stream",
     "text": [
      "False\n",
      "True\n",
      "True\n",
      "False\n"
     ]
    }
   ],
   "source": [
    "#4\n",
    "\n",
    "# \"==\" is comparison operator to compare two objects, whether they are equal.\n",
    "x = 5\n",
    "y = 9\n",
    "z = 5\n",
    "print(x == y)\n",
    "print(x == z)\n",
    "\n",
    "# \"is\" operator is used to compare whether the two variables point to same objects\n",
    "\n",
    "a = [1,2,3]\n",
    "b = a\n",
    "c = [1,2,3]\n",
    "print(b is a)\n",
    "print(c is a)\n"
   ]
  },
  {
   "cell_type": "markdown",
   "metadata": {},
   "source": [
    "Conditional Programming:\n",
    "\n",
    "    * Question 5:\n",
    "•\tWrite a Python program that takes a user's age as input. If the age is less than 18, print \"You are a minor\"; otherwise, print \"You are an adult.\""
   ]
  },
  {
   "cell_type": "code",
   "execution_count": 4,
   "metadata": {
    "colab": {
     "base_uri": "https://localhost:8080/"
    },
    "executionInfo": {
     "elapsed": 6189,
     "status": "ok",
     "timestamp": 1710260729332,
     "user": {
      "displayName": "Rohith Sukka",
      "userId": "10682956521509937619"
     },
     "user_tz": -330
    },
    "id": "SiIFut8YU3NK",
    "outputId": "8b177112-e083-425f-b81f-757ce242db5b"
   },
   "outputs": [
    {
     "name": "stdin",
     "output_type": "stream",
     "text": [
      "Enter your age: 25\n"
     ]
    },
    {
     "name": "stdout",
     "output_type": "stream",
     "text": [
      "You are Adult\n"
     ]
    }
   ],
   "source": [
    "#5\n",
    "\n",
    "age = int(input(\"Enter your age:\"))\n",
    "if age < 18:\n",
    "  print(\"You are Minor\")\n",
    "else:\n",
    "  print(\"You are Adult\")\n",
    "\n"
   ]
  },
  {
   "cell_type": "markdown",
   "metadata": {},
   "source": [
    "* Question 6:\n",
    "•\tGiven a list of numbers [1, 7, 12, 5, 20, 8], write a program to find and print the even numbers in the list."
   ]
  },
  {
   "cell_type": "code",
   "execution_count": 5,
   "metadata": {
    "colab": {
     "base_uri": "https://localhost:8080/"
    },
    "executionInfo": {
     "elapsed": 7,
     "status": "ok",
     "timestamp": 1710260729332,
     "user": {
      "displayName": "Rohith Sukka",
      "userId": "10682956521509937619"
     },
     "user_tz": -330
    },
    "id": "iLUxNCCcZB_S",
    "outputId": "6c3979ee-f643-4960-c102-03ab350f7e71"
   },
   "outputs": [
    {
     "name": "stdout",
     "output_type": "stream",
     "text": [
      "12\n",
      "20\n",
      "8\n"
     ]
    }
   ],
   "source": [
    "#6\n",
    "\n",
    "list_num = [1, 7, 12, 5, 20, 8]\n",
    "\n",
    "for i in list_num:\n",
    "  if (i%2 == 0):\n",
    "    print(i)"
   ]
  },
  {
   "cell_type": "markdown",
   "metadata": {},
   "source": [
    "For Loop:\n",
    "\n",
    "    * Question 7:\n",
    "•\tUse a for loop to print the square of each number in the range from 1 to 5."
   ]
  },
  {
   "cell_type": "code",
   "execution_count": 6,
   "metadata": {
    "colab": {
     "base_uri": "https://localhost:8080/"
    },
    "executionInfo": {
     "elapsed": 6,
     "status": "ok",
     "timestamp": 1710260729333,
     "user": {
      "displayName": "Rohith Sukka",
      "userId": "10682956521509937619"
     },
     "user_tz": -330
    },
    "id": "4L9HOfEuZrVN",
    "outputId": "b5f27a9f-c066-4403-b08a-516b61bf7f75"
   },
   "outputs": [
    {
     "name": "stdout",
     "output_type": "stream",
     "text": [
      "1\n",
      "4\n",
      "9\n",
      "16\n",
      "25\n"
     ]
    }
   ],
   "source": [
    "#7\n",
    "\n",
    "for i in range(1,6):\n",
    "  print(i**2)"
   ]
  },
  {
   "cell_type": "markdown",
   "metadata": {},
   "source": [
    " Question 8:\n",
    "•\tWrite a Python program that takes a string as input and counts the number of vowels (a, e, i, o, u) in the string.\n"
   ]
  },
  {
   "cell_type": "code",
   "execution_count": 7,
   "metadata": {
    "colab": {
     "base_uri": "https://localhost:8080/"
    },
    "executionInfo": {
     "elapsed": 21438,
     "status": "ok",
     "timestamp": 1710261248852,
     "user": {
      "displayName": "Rohith Sukka",
      "userId": "10682956521509937619"
     },
     "user_tz": -330
    },
    "id": "v0DjaQ3PZ__g",
    "outputId": "67b59bd5-9b2f-4fc8-b544-a10656cf28bf"
   },
   "outputs": [
    {
     "name": "stdin",
     "output_type": "stream",
     "text": [
      " hello, rohith!\n"
     ]
    },
    {
     "name": "stdout",
     "output_type": "stream",
     "text": [
      "4\n"
     ]
    }
   ],
   "source": [
    "#8\n",
    "\n",
    "a = input()\n",
    "count = 0\n",
    "for i in a:\n",
    "  if i.lower() == 'a' or  i.lower() == 'e' or i.lower() == 'i' or i.lower() == 'o' or i.lower() == 'u':\n",
    "    count += 1\n",
    "\n",
    "print(count)"
   ]
  },
  {
   "cell_type": "markdown",
   "metadata": {},
   "source": [
    "Mixed:\n",
    "\n",
    "    * Question 9:\n",
    "•\tDefine a function named calculate_discount that takes the original price of an item as an argument and returns the discounted price. If the original price is greater than 100, apply a 10% discount; otherwise, apply a 5% discount.\n"
   ]
  },
  {
   "cell_type": "code",
   "execution_count": 8,
   "metadata": {
    "colab": {
     "base_uri": "https://localhost:8080/"
    },
    "executionInfo": {
     "elapsed": 409,
     "status": "ok",
     "timestamp": 1710261651263,
     "user": {
      "displayName": "Rohith Sukka",
      "userId": "10682956521509937619"
     },
     "user_tz": -330
    },
    "id": "_QCoNvk7bHS0",
    "outputId": "2ce73197-e4dd-4daf-be03-dc877ee52e00"
   },
   "outputs": [
    {
     "name": "stdout",
     "output_type": "stream",
     "text": [
      "450.0\n"
     ]
    }
   ],
   "source": [
    "#9\n",
    "\n",
    "def calculate_discount(price):\n",
    "  if (price > 100):\n",
    "    discount = price * 0.1\n",
    "    final_price = price - discount\n",
    "    print(final_price)\n",
    "  else:\n",
    "    discount = price * 0.05\n",
    "    final_price = price - discount\n",
    "    print(final_price)\n",
    "\n",
    "calculate_discount(500)"
   ]
  },
  {
   "cell_type": "markdown",
   "metadata": {},
   "source": [
    "* Question 10:\n",
    "•\tWrite a program that prompts the user to enter two numbers. Using a for loop, calculate and print the sum of all numbers between the two input values (inclusive)."
   ]
  },
  {
   "cell_type": "code",
   "execution_count": 9,
   "metadata": {
    "colab": {
     "base_uri": "https://localhost:8080/"
    },
    "executionInfo": {
     "elapsed": 5315,
     "status": "ok",
     "timestamp": 1710261823929,
     "user": {
      "displayName": "Rohith Sukka",
      "userId": "10682956521509937619"
     },
     "user_tz": -330
    },
    "id": "YBmHayNqcaxL",
    "outputId": "ec7081c6-1b81-4e62-b4eb-86b4103ccc15"
   },
   "outputs": [
    {
     "name": "stdin",
     "output_type": "stream",
     "text": [
      " 1\n",
      " 10\n"
     ]
    },
    {
     "name": "stdout",
     "output_type": "stream",
     "text": [
      "55\n"
     ]
    }
   ],
   "source": [
    "#10\n",
    "\n",
    "a = int(input())\n",
    "b = int(input())\n",
    "sum = 0\n",
    "for i in range(a, b+1):\n",
    "  sum += i\n",
    "\n",
    "print(sum)\n"
   ]
  }
 ],
 "metadata": {
  "colab": {
   "provenance": [
    {
     "file_id": "1RGIYaTL38njsocCFTaw9XGM09v6gLgLb",
     "timestamp": 1710257042133
    }
   ]
  },
  "kernelspec": {
   "display_name": "Python 3 (ipykernel)",
   "language": "python",
   "name": "python3"
  },
  "language_info": {
   "codemirror_mode": {
    "name": "ipython",
    "version": 3
   },
   "file_extension": ".py",
   "mimetype": "text/x-python",
   "name": "python",
   "nbconvert_exporter": "python",
   "pygments_lexer": "ipython3",
   "version": "3.11.6"
  }
 },
 "nbformat": 4,
 "nbformat_minor": 4
}
