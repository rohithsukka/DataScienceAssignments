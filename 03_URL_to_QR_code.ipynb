{
  "nbformat": 4,
  "nbformat_minor": 0,
  "metadata": {
    "colab": {
      "provenance": [],
      "authorship_tag": "ABX9TyPEV5AU4jWgfXZcPtcD2HDl"
    },
    "kernelspec": {
      "name": "python3",
      "display_name": "Python 3"
    },
    "language_info": {
      "name": "python"
    }
  },
  "cells": [
    {
      "cell_type": "code",
      "source": [
        "#import required libraries\n",
        "import qrcode\n",
        "from IPython.display import display, Image\n",
        "\n",
        "#defining function to Generate QR code\n",
        "def generate_qr_code(url):\n",
        "\n",
        "    #defining qrcode details such as size\n",
        "    #creating qr object\n",
        "    qr = qrcode.QRCode(\n",
        "        version=1,\n",
        "        error_correction=qrcode.constants.ERROR_CORRECT_L,\n",
        "        box_size=10,\n",
        "        border=4,\n",
        "    )\n",
        "\n",
        "    #passing url to qr object\n",
        "    qr.add_data(url)\n",
        "\n",
        "    #making qr code to fit to window\n",
        "    qr.make(fit=True)\n",
        "\n",
        "    # Create an image from the QR Code instance\n",
        "    img = qr.make_image(fill_color=\"black\", back_color=\"white\")\n",
        "\n",
        "    # Display the QR code\n",
        "    display(img)\n",
        "\n",
        "# URL variable:\n",
        "url = \"https://www.linkedin.com/in/rohithsukka/\"\n",
        "\n",
        "\n",
        "generate_qr_code(url)\n"
      ],
      "metadata": {
        "id": "Ybr1Nzl7cbeQ",
        "colab": {
          "base_uri": "https://localhost:8080/",
          "height": 387
        },
        "outputId": "b063dff4-fb7b-46f5-de93-799c9e1206b6"
      },
      "execution_count": null,
      "outputs": [
        {
          "output_type": "display_data",
          "data": {
            "text/plain": [
              "<qrcode.image.pil.PilImage at 0x7fa754910d60>"
            ],
            "image/png": "[encoded data removed]"
          },
          "metadata": {}
        }
      ]
    }
  ]
}